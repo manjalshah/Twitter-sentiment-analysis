{
  "nbformat": 4,
  "nbformat_minor": 0,
  "metadata": {
    "colab": {
      "name": "Twitter_sentiment_analysis.ipynb",
      "provenance": []
    },
    "kernelspec": {
      "name": "python3",
      "display_name": "Python 3"
    },
    "language_info": {
      "name": "python"
    }
  },
  "cells": [
    {
      "cell_type": "code",
      "metadata": {
        "id": "U6Bfr6Ptoq4F"
      },
      "source": [
        "# Imprting libraries\n",
        "import pandas as pd\n",
        "import seaborn as sns\n",
        "import matplotlib.pyplot as plt\n",
        "from sklearn.multiclass import OneVsRestClassifier\n",
        "from sklearn.linear_model import LogisticRegression\n",
        "from sklearn.model_selection import train_test_split\n",
        "from sklearn.feature_extraction.text import CountVectorizer\n",
        "from sklearn.metrics import accuracy_score,confusion_matrix"
      ],
      "execution_count": 87,
      "outputs": []
    },
    {
      "cell_type": "code",
      "metadata": {
        "colab": {
          "base_uri": "https://localhost:8080/",
          "height": 220
        },
        "id": "cS-IxKwOpaHX",
        "outputId": "48334a4e-492b-4336-b303-ecf481d7297e"
      },
      "source": [
        "data = pd.read_csv(\"Twitter_Data.csv\")           # Converted csv file of dataset into pandas dataframe\n",
        "print(data.shape)                                # To get total number of rows and columns of this data\n",
        "data.head()                                      # To print first 5 rows of data"
      ],
      "execution_count": 88,
      "outputs": [
        {
          "output_type": "stream",
          "name": "stdout",
          "text": [
            "(162980, 2)\n"
          ]
        },
        {
          "output_type": "execute_result",
          "data": {
            "text/html": [
              "<div>\n",
              "<style scoped>\n",
              "    .dataframe tbody tr th:only-of-type {\n",
              "        vertical-align: middle;\n",
              "    }\n",
              "\n",
              "    .dataframe tbody tr th {\n",
              "        vertical-align: top;\n",
              "    }\n",
              "\n",
              "    .dataframe thead th {\n",
              "        text-align: right;\n",
              "    }\n",
              "</style>\n",
              "<table border=\"1\" class=\"dataframe\">\n",
              "  <thead>\n",
              "    <tr style=\"text-align: right;\">\n",
              "      <th></th>\n",
              "      <th>clean_text</th>\n",
              "      <th>category</th>\n",
              "    </tr>\n",
              "  </thead>\n",
              "  <tbody>\n",
              "    <tr>\n",
              "      <th>0</th>\n",
              "      <td>when modi promised “minimum government maximum...</td>\n",
              "      <td>-1.0</td>\n",
              "    </tr>\n",
              "    <tr>\n",
              "      <th>1</th>\n",
              "      <td>talk all the nonsense and continue all the dra...</td>\n",
              "      <td>0.0</td>\n",
              "    </tr>\n",
              "    <tr>\n",
              "      <th>2</th>\n",
              "      <td>what did just say vote for modi  welcome bjp t...</td>\n",
              "      <td>1.0</td>\n",
              "    </tr>\n",
              "    <tr>\n",
              "      <th>3</th>\n",
              "      <td>asking his supporters prefix chowkidar their n...</td>\n",
              "      <td>1.0</td>\n",
              "    </tr>\n",
              "    <tr>\n",
              "      <th>4</th>\n",
              "      <td>answer who among these the most powerful world...</td>\n",
              "      <td>1.0</td>\n",
              "    </tr>\n",
              "  </tbody>\n",
              "</table>\n",
              "</div>"
            ],
            "text/plain": [
              "                                          clean_text  category\n",
              "0  when modi promised “minimum government maximum...      -1.0\n",
              "1  talk all the nonsense and continue all the dra...       0.0\n",
              "2  what did just say vote for modi  welcome bjp t...       1.0\n",
              "3  asking his supporters prefix chowkidar their n...       1.0\n",
              "4  answer who among these the most powerful world...       1.0"
            ]
          },
          "metadata": {},
          "execution_count": 88
        }
      ]
    },
    {
      "cell_type": "code",
      "metadata": {
        "id": "BxYjWXdrphi8",
        "colab": {
          "base_uri": "https://localhost:8080/"
        },
        "outputId": "a9d96ba1-67fc-4809-e456-10e5b16ac6d0"
      },
      "source": [
        "data.info()                                      # To find all the information about data"
      ],
      "execution_count": 89,
      "outputs": [
        {
          "output_type": "stream",
          "name": "stdout",
          "text": [
            "<class 'pandas.core.frame.DataFrame'>\n",
            "RangeIndex: 162980 entries, 0 to 162979\n",
            "Data columns (total 2 columns):\n",
            " #   Column      Non-Null Count   Dtype  \n",
            "---  ------      --------------   -----  \n",
            " 0   clean_text  162976 non-null  object \n",
            " 1   category    162973 non-null  float64\n",
            "dtypes: float64(1), object(1)\n",
            "memory usage: 2.5+ MB\n"
          ]
        }
      ]
    },
    {
      "cell_type": "code",
      "metadata": {
        "colab": {
          "base_uri": "https://localhost:8080/"
        },
        "id": "OJ4-Z4MF8pvl",
        "outputId": "e63366a1-d652-4fff-8711-f4cdcf4a3e5d"
      },
      "source": [
        "data.dropna(axis = 0, inplace = True)           # To drop all rows containg null values from data\n",
        "data['category'].value_counts()                 # To count total positive, neutral and negative tweets in data"
      ],
      "execution_count": 90,
      "outputs": [
        {
          "output_type": "execute_result",
          "data": {
            "text/plain": [
              " 1.0    72249\n",
              " 0.0    55211\n",
              "-1.0    35509\n",
              "Name: category, dtype: int64"
            ]
          },
          "metadata": {},
          "execution_count": 90
        }
      ]
    },
    {
      "cell_type": "code",
      "metadata": {
        "id": "9OmF9Exm-AGj"
      },
      "source": [
        "# CountVectorizer is used to transform a given text into a vector on the basis of the frequency of each word that occures in the entire text\n",
        "cv = CountVectorizer(max_features=10000)        # Here we are taking 10000 words which are the most frequent in the entire text\n",
        "cv.fit(data['clean_text'])                      # We are using CountVectorizer 'for clean_text' column of data\n",
        "\n",
        "train, test = train_test_split(data, test_size=0.2, random_state=40)   # Splitting training and test data in 80:20 ratio\n",
        "\n",
        "x_train = cv.transform(train['clean_text'])     # To get feature of training data\n",
        "x_test = cv.transform(test['clean_text'])       # To get feature of test data"
      ],
      "execution_count": 91,
      "outputs": []
    },
    {
      "cell_type": "code",
      "metadata": {
        "id": "N7o5WaawBQNM"
      },
      "source": [
        "# OneVsRestClassifier will fit one classifier per class. For each classifier, the class is fitted against all the other classes by using LogisticRegression\n",
        "clf = OneVsRestClassifier(LogisticRegression(C = 10, n_jobs=-1))   \n",
        "clf.fit(x_train, train['category'])    # Train model using training data\n",
        "\n",
        "y_pred = clf.predict(x_test)           # To get predicted values of test feature from trained model"
      ],
      "execution_count": 92,
      "outputs": []
    },
    {
      "cell_type": "code",
      "metadata": {
        "id": "CH5Rq6D9BUV1",
        "colab": {
          "base_uri": "https://localhost:8080/"
        },
        "outputId": "a4d02591-9a47-4089-f612-2756e03425e0"
      },
      "source": [
        "print(\"Accuracy : \",100*clf.score(x_test, test['category']))    # Accuracy of model on test data"
      ],
      "execution_count": 93,
      "outputs": [
        {
          "output_type": "stream",
          "name": "stdout",
          "text": [
            "Accuracy :  95.19236669325643\n"
          ]
        }
      ]
    },
    {
      "cell_type": "code",
      "metadata": {
        "colab": {
          "base_uri": "https://localhost:8080/",
          "height": 374
        },
        "id": "sMabtPnoUAk4",
        "outputId": "8a1f1a28-c59d-4f5e-ce07-26cd8f97bd5e"
      },
      "source": [
        "# Confusion matrix is useful to analyze perf\n",
        "mat = confusion_matrix(test['category'], y_pred)      \n",
        "plt.figure(figsize = (6, 6))\n",
        "sns.heatmap(mat, annot = True, fmt=\"d\", xticklabels=['Actual Negative', 'Actual Neutral','Actual Positive'], yticklabels=['Predicted Negative', 'Predicted Neutral','Predicted Positive']);"
      ],
      "execution_count": 94,
      "outputs": [
        {
          "output_type": "display_data",
          "data": {
            "image/png": "[encoded data removed]",
            "text/plain": [
              "<Figure size 432x432 with 2 Axes>"
            ]
          },
          "metadata": {
            "needs_background": "light"
          }
        }
      ]
    },
    {
      "cell_type": "code",
      "metadata": {
        "id": "Dd90wGjBZCgl"
      },
      "source": [
        ""
      ],
      "execution_count": null,
      "outputs": []
    }
  ]
}